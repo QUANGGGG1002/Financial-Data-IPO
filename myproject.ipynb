{
 "cells": [
  {
   "cell_type": "code",
   "id": "initial_id",
   "metadata": {
    "collapsed": true,
    "ExecuteTime": {
     "end_time": "2024-10-19T19:18:00.044962Z",
     "start_time": "2024-10-19T19:17:55.484048Z"
    }
   },
   "source": [
    "from operator import index\n",
    "\n",
    "# đọc tất cả dữ liệu vào file excel\n",
    "import pandas as pd\n",
    "import numpy as np\n",
    "from fontTools.misc.cython import returns\n",
    "from pandas.core.computation.expressions import evaluate\n",
    "from pandas.core.interchange.dataframe_protocol import DataFrame\n",
    "from pandas.io.pytables import dropna_doc\n",
    "\n",
    "df = pd.read_excel(\"D:\\\\myproject.xlsx\", sheet_name=None)"
   ],
   "outputs": [],
   "execution_count": 1
  },
  {
   "metadata": {
    "ExecuteTime": {
     "end_time": "2024-10-19T19:18:00.067758Z",
     "start_time": "2024-10-19T19:18:00.062080Z"
    }
   },
   "cell_type": "code",
   "source": [
    "# dữ liệu của working capital\n",
    "wc = df['Sheet6']\n",
    "wc.dropna(inplace=True)"
   ],
   "id": "ce174b3437ce4e05",
   "outputs": [],
   "execution_count": 2
  },
  {
   "metadata": {
    "ExecuteTime": {
     "end_time": "2024-10-19T19:18:00.078277Z",
     "start_time": "2024-10-19T19:18:00.072766Z"
    }
   },
   "cell_type": "code",
   "source": [
    "# dữ liệu total assets\n",
    "ta = df['Sheet3']\n",
    "ta.dropna(inplace=True)"
   ],
   "id": "9410f139f05f5ce",
   "outputs": [],
   "execution_count": 3
  },
  {
   "metadata": {
    "ExecuteTime": {
     "end_time": "2024-10-19T19:18:00.087351Z",
     "start_time": "2024-10-19T19:18:00.083914Z"
    }
   },
   "cell_type": "code",
   "source": [
    "# dữ liệu retained earnings\n",
    "re = df['Sheet14']\n",
    "re.dropna(inplace=True)"
   ],
   "id": "1e6fe7c4ade78991",
   "outputs": [],
   "execution_count": 4
  },
  {
   "metadata": {
    "ExecuteTime": {
     "end_time": "2024-10-19T19:18:00.095962Z",
     "start_time": "2024-10-19T19:18:00.091360Z"
    }
   },
   "cell_type": "code",
   "source": [
    "# dữ liệu earnings before interest and tax\n",
    "EBIT = df['Sheet17']\n",
    "EBIT.dropna(inplace=True)"
   ],
   "id": "e210e3be1329590e",
   "outputs": [],
   "execution_count": 5
  },
  {
   "metadata": {
    "ExecuteTime": {
     "end_time": "2024-10-19T19:18:00.597233Z",
     "start_time": "2024-10-19T19:18:00.591130Z"
    }
   },
   "cell_type": "code",
   "source": [
    "# dữ liệu market value of equity\n",
    "mc = df['Sheet19']\n",
    "mc.dropna(inplace=True)"
   ],
   "id": "98ba7b58aa1b75a5",
   "outputs": [],
   "execution_count": 6
  },
  {
   "metadata": {
    "ExecuteTime": {
     "end_time": "2024-10-19T19:18:00.649366Z",
     "start_time": "2024-10-19T19:18:00.644822Z"
    }
   },
   "cell_type": "code",
   "source": [
    "# dữ liệu total liabilities\n",
    "tl = df['Sheet28']\n",
    "tl.dropna(inplace=True)"
   ],
   "id": "d8cfabd2a54c9d6d",
   "outputs": [],
   "execution_count": 7
  },
  {
   "metadata": {
    "ExecuteTime": {
     "end_time": "2024-10-19T19:18:00.673047Z",
     "start_time": "2024-10-19T19:18:00.668023Z"
    }
   },
   "cell_type": "code",
   "source": [
    "# dữ liệu sales\n",
    "sales = df['Sheet20']\n",
    "sales.dropna(inplace=True)"
   ],
   "id": "905f73c684c3a0a9",
   "outputs": [],
   "execution_count": 8
  },
  {
   "metadata": {
    "ExecuteTime": {
     "end_time": "2024-10-19T19:18:00.687745Z",
     "start_time": "2024-10-19T19:18:00.684727Z"
    }
   },
   "cell_type": "code",
   "source": [
    "# tạo 1 bảng báo cáo tài chính\n",
    "df['Sheet1']['Zscore']= 0\n",
    "df['Sheet1']['analysis'] = ''"
   ],
   "id": "12cf185140909e82",
   "outputs": [],
   "execution_count": 9
  },
  {
   "metadata": {
    "ExecuteTime": {
     "end_time": "2024-10-19T19:18:00.727342Z",
     "start_time": "2024-10-19T19:18:00.716864Z"
    }
   },
   "cell_type": "code",
   "source": "df['Sheet1']",
   "id": "b539b5bd17a83512",
   "outputs": [
    {
     "data": {
      "text/plain": [
       "        STT                                Company Common Name  \\\n",
       "0    CHP.HM                             Central Hydropower JSC   \n",
       "1    V21.HN                                   Vinaconex 21 JSC   \n",
       "2    LIG.HN                                      Licogi 13 JSC   \n",
       "3    MCC.HN                         High Grade Brick Tile Corp   \n",
       "4    TET.HN                 Northern Textiles And Garments JSC   \n",
       "..      ...                                                ...   \n",
       "700  CCI.HM  CuChi Commercial and Industrial Developing Inv...   \n",
       "701  PPP.HN                       Phong Phu Pharmaceutical JSC   \n",
       "702  IJC.HM             Becamex Infrastructure Development JSC   \n",
       "703  SBG.HM                Siba High-Tech Mechanical Group JSC   \n",
       "704  DSE.HM                                DNSE Securities JSC   \n",
       "\n",
       "                Exchange Name  \\\n",
       "0    HOCHIMINH STOCK EXCHANGE   \n",
       "1        HANOI STOCK EXCHANGE   \n",
       "2        HANOI STOCK EXCHANGE   \n",
       "3        HANOI STOCK EXCHANGE   \n",
       "4        HANOI STOCK EXCHANGE   \n",
       "..                        ...   \n",
       "700  HOCHIMINH STOCK EXCHANGE   \n",
       "701      HANOI STOCK EXCHANGE   \n",
       "702  HOCHIMINH STOCK EXCHANGE   \n",
       "703  HOCHIMINH STOCK EXCHANGE   \n",
       "704  HOCHIMINH STOCK EXCHANGE   \n",
       "\n",
       "                                    GICS Industry Name  \\\n",
       "0    Independent Power and Renewable Electricity Pr...   \n",
       "1                           Construction & Engineering   \n",
       "2                           Construction & Engineering   \n",
       "3                               Construction Materials   \n",
       "4                     Textiles, Apparel & Luxury Goods   \n",
       "..                                                 ...   \n",
       "700                   Trading Companies & Distributors   \n",
       "701                                    Pharmaceuticals   \n",
       "702                         Construction & Engineering   \n",
       "703                           Industrial Conglomerates   \n",
       "704                                    Capital Markets   \n",
       "\n",
       "           GICS Sector Name Date Became Public  Zscore analysis  \n",
       "0                 Utilities         2010-04-20       0           \n",
       "1               Industrials         2010-04-21       0           \n",
       "2               Industrials         2010-04-22       0           \n",
       "3                 Materials         2010-04-26       0           \n",
       "4    Consumer Discretionary         2010-04-28       0           \n",
       "..                      ...                ...     ...      ...  \n",
       "700             Industrials         2010-04-15       0           \n",
       "701             Health Care         2011-07-18       0           \n",
       "702             Industrials         2010-04-19       0           \n",
       "703             Industrials         2023-12-01       0           \n",
       "704              Financials         2024-07-01       0           \n",
       "\n",
       "[705 rows x 8 columns]"
      ],
      "text/html": [
       "<div>\n",
       "<style scoped>\n",
       "    .dataframe tbody tr th:only-of-type {\n",
       "        vertical-align: middle;\n",
       "    }\n",
       "\n",
       "    .dataframe tbody tr th {\n",
       "        vertical-align: top;\n",
       "    }\n",
       "\n",
       "    .dataframe thead th {\n",
       "        text-align: right;\n",
       "    }\n",
       "</style>\n",
       "<table border=\"1\" class=\"dataframe\">\n",
       "  <thead>\n",
       "    <tr style=\"text-align: right;\">\n",
       "      <th></th>\n",
       "      <th>STT</th>\n",
       "      <th>Company Common Name</th>\n",
       "      <th>Exchange Name</th>\n",
       "      <th>GICS Industry Name</th>\n",
       "      <th>GICS Sector Name</th>\n",
       "      <th>Date Became Public</th>\n",
       "      <th>Zscore</th>\n",
       "      <th>analysis</th>\n",
       "    </tr>\n",
       "  </thead>\n",
       "  <tbody>\n",
       "    <tr>\n",
       "      <th>0</th>\n",
       "      <td>CHP.HM</td>\n",
       "      <td>Central Hydropower JSC</td>\n",
       "      <td>HOCHIMINH STOCK EXCHANGE</td>\n",
       "      <td>Independent Power and Renewable Electricity Pr...</td>\n",
       "      <td>Utilities</td>\n",
       "      <td>2010-04-20</td>\n",
       "      <td>0</td>\n",
       "      <td></td>\n",
       "    </tr>\n",
       "    <tr>\n",
       "      <th>1</th>\n",
       "      <td>V21.HN</td>\n",
       "      <td>Vinaconex 21 JSC</td>\n",
       "      <td>HANOI STOCK EXCHANGE</td>\n",
       "      <td>Construction &amp; Engineering</td>\n",
       "      <td>Industrials</td>\n",
       "      <td>2010-04-21</td>\n",
       "      <td>0</td>\n",
       "      <td></td>\n",
       "    </tr>\n",
       "    <tr>\n",
       "      <th>2</th>\n",
       "      <td>LIG.HN</td>\n",
       "      <td>Licogi 13 JSC</td>\n",
       "      <td>HANOI STOCK EXCHANGE</td>\n",
       "      <td>Construction &amp; Engineering</td>\n",
       "      <td>Industrials</td>\n",
       "      <td>2010-04-22</td>\n",
       "      <td>0</td>\n",
       "      <td></td>\n",
       "    </tr>\n",
       "    <tr>\n",
       "      <th>3</th>\n",
       "      <td>MCC.HN</td>\n",
       "      <td>High Grade Brick Tile Corp</td>\n",
       "      <td>HANOI STOCK EXCHANGE</td>\n",
       "      <td>Construction Materials</td>\n",
       "      <td>Materials</td>\n",
       "      <td>2010-04-26</td>\n",
       "      <td>0</td>\n",
       "      <td></td>\n",
       "    </tr>\n",
       "    <tr>\n",
       "      <th>4</th>\n",
       "      <td>TET.HN</td>\n",
       "      <td>Northern Textiles And Garments JSC</td>\n",
       "      <td>HANOI STOCK EXCHANGE</td>\n",
       "      <td>Textiles, Apparel &amp; Luxury Goods</td>\n",
       "      <td>Consumer Discretionary</td>\n",
       "      <td>2010-04-28</td>\n",
       "      <td>0</td>\n",
       "      <td></td>\n",
       "    </tr>\n",
       "    <tr>\n",
       "      <th>...</th>\n",
       "      <td>...</td>\n",
       "      <td>...</td>\n",
       "      <td>...</td>\n",
       "      <td>...</td>\n",
       "      <td>...</td>\n",
       "      <td>...</td>\n",
       "      <td>...</td>\n",
       "      <td>...</td>\n",
       "    </tr>\n",
       "    <tr>\n",
       "      <th>700</th>\n",
       "      <td>CCI.HM</td>\n",
       "      <td>CuChi Commercial and Industrial Developing Inv...</td>\n",
       "      <td>HOCHIMINH STOCK EXCHANGE</td>\n",
       "      <td>Trading Companies &amp; Distributors</td>\n",
       "      <td>Industrials</td>\n",
       "      <td>2010-04-15</td>\n",
       "      <td>0</td>\n",
       "      <td></td>\n",
       "    </tr>\n",
       "    <tr>\n",
       "      <th>701</th>\n",
       "      <td>PPP.HN</td>\n",
       "      <td>Phong Phu Pharmaceutical JSC</td>\n",
       "      <td>HANOI STOCK EXCHANGE</td>\n",
       "      <td>Pharmaceuticals</td>\n",
       "      <td>Health Care</td>\n",
       "      <td>2011-07-18</td>\n",
       "      <td>0</td>\n",
       "      <td></td>\n",
       "    </tr>\n",
       "    <tr>\n",
       "      <th>702</th>\n",
       "      <td>IJC.HM</td>\n",
       "      <td>Becamex Infrastructure Development JSC</td>\n",
       "      <td>HOCHIMINH STOCK EXCHANGE</td>\n",
       "      <td>Construction &amp; Engineering</td>\n",
       "      <td>Industrials</td>\n",
       "      <td>2010-04-19</td>\n",
       "      <td>0</td>\n",
       "      <td></td>\n",
       "    </tr>\n",
       "    <tr>\n",
       "      <th>703</th>\n",
       "      <td>SBG.HM</td>\n",
       "      <td>Siba High-Tech Mechanical Group JSC</td>\n",
       "      <td>HOCHIMINH STOCK EXCHANGE</td>\n",
       "      <td>Industrial Conglomerates</td>\n",
       "      <td>Industrials</td>\n",
       "      <td>2023-12-01</td>\n",
       "      <td>0</td>\n",
       "      <td></td>\n",
       "    </tr>\n",
       "    <tr>\n",
       "      <th>704</th>\n",
       "      <td>DSE.HM</td>\n",
       "      <td>DNSE Securities JSC</td>\n",
       "      <td>HOCHIMINH STOCK EXCHANGE</td>\n",
       "      <td>Capital Markets</td>\n",
       "      <td>Financials</td>\n",
       "      <td>2024-07-01</td>\n",
       "      <td>0</td>\n",
       "      <td></td>\n",
       "    </tr>\n",
       "  </tbody>\n",
       "</table>\n",
       "<p>705 rows × 8 columns</p>\n",
       "</div>"
      ]
     },
     "execution_count": 10,
     "metadata": {},
     "output_type": "execute_result"
    }
   ],
   "execution_count": 10
  },
  {
   "metadata": {
    "ExecuteTime": {
     "end_time": "2024-10-19T19:18:00.799412Z",
     "start_time": "2024-10-19T19:18:00.790950Z"
    }
   },
   "cell_type": "code",
   "source": [
    "# caculated A\n",
    "A = pd.DataFrame()\n",
    "A = wc['Working Capital'] / ta['Total Assets']\n",
    "A.dropna(inplace=True)\n",
    "round(A,2)"
   ],
   "id": "d7363d2f2d9632d2",
   "outputs": [
    {
     "data": {
      "text/plain": [
       "0         0.392922\n",
       "1         0.304725\n",
       "2         0.220466\n",
       "3         0.057508\n",
       "4        -0.047831\n",
       "           ...    \n",
       "9503      4.610731\n",
       "9504      8.369463\n",
       "9505      9.704331\n",
       "9506     67.077218\n",
       "9507    142.469101\n",
       "Length: 9160, dtype: object"
      ]
     },
     "execution_count": 11,
     "metadata": {},
     "output_type": "execute_result"
    }
   ],
   "execution_count": 11
  },
  {
   "metadata": {
    "ExecuteTime": {
     "end_time": "2024-10-19T19:18:00.895399Z",
     "start_time": "2024-10-19T19:18:00.888262Z"
    }
   },
   "cell_type": "code",
   "source": [
    "# caculated B\n",
    "B = pd.DataFrame()\n",
    "B = re['Retained Earnings - Total'] / ta['Total Assets']\n",
    "B.dropna(inplace=True)\n",
    "round(B,2)"
   ],
   "id": "b26b85d63078fe66",
   "outputs": [
    {
     "data": {
      "text/plain": [
       "0      0.588539\n",
       "1      0.001154\n",
       "2      0.005021\n",
       "3      0.000921\n",
       "4      0.007203\n",
       "         ...   \n",
       "701    0.036731\n",
       "702    0.585378\n",
       "703    0.070003\n",
       "704    0.094508\n",
       "705    0.306051\n",
       "Length: 689, dtype: object"
      ]
     },
     "execution_count": 12,
     "metadata": {},
     "output_type": "execute_result"
    }
   ],
   "execution_count": 12
  },
  {
   "metadata": {
    "ExecuteTime": {
     "end_time": "2024-10-19T19:18:01.051063Z",
     "start_time": "2024-10-19T19:18:01.043932Z"
    }
   },
   "cell_type": "code",
   "source": [
    "# cauculated C\n",
    "C = pd.DataFrame()\n",
    "C = EBIT['Earnings before Interest & Taxes (EBIT)'] / ta['Total Assets']\n",
    "C.dropna(inplace=True)\n",
    "round(C,2)"
   ],
   "id": "f93f6ba85a1e2169",
   "outputs": [
    {
     "data": {
      "text/plain": [
       "0            0.0\n",
       "1            0.0\n",
       "2            0.0\n",
       "3            0.0\n",
       "4       0.026698\n",
       "          ...   \n",
       "9855    0.009634\n",
       "9856    0.003358\n",
       "9857   -0.003122\n",
       "9858    0.026828\n",
       "9859    0.030896\n",
       "Length: 9695, dtype: object"
      ]
     },
     "execution_count": 13,
     "metadata": {},
     "output_type": "execute_result"
    }
   ],
   "execution_count": 13
  },
  {
   "metadata": {
    "ExecuteTime": {
     "end_time": "2024-10-19T19:18:01.174666Z",
     "start_time": "2024-10-19T19:18:01.168003Z"
    }
   },
   "cell_type": "code",
   "source": [
    "# caculated D\n",
    "D = pd.DataFrame()\n",
    "D = mc['Market Capitalization'] / tl['Total Liabilities']\n",
    "D.dropna(inplace=True)\n",
    "round(D,2)"
   ],
   "id": "240fc1ce954817f9",
   "outputs": [
    {
     "data": {
      "text/plain": [
       "2       0.186401\n",
       "3       0.118449\n",
       "4       0.168692\n",
       "5       0.262953\n",
       "6       0.494414\n",
       "          ...   \n",
       "9848    0.164334\n",
       "9849    0.365288\n",
       "9850    0.604685\n",
       "9851    1.296694\n",
       "9852    0.786622\n",
       "Length: 8111, dtype: object"
      ]
     },
     "execution_count": 14,
     "metadata": {},
     "output_type": "execute_result"
    }
   ],
   "execution_count": 14
  },
  {
   "metadata": {
    "ExecuteTime": {
     "end_time": "2024-10-19T19:18:01.297865Z",
     "start_time": "2024-10-19T19:18:01.291430Z"
    }
   },
   "cell_type": "code",
   "source": [
    "# caculated E\n",
    "E = pd.DataFrame()\n",
    "E = sales['Revenue from Business Activities - Total'] / ta['Total Assets']\n",
    "E.dropna(inplace=True)\n",
    "round(E,2)"
   ],
   "id": "3ee50d96d4f32d17",
   "outputs": [
    {
     "data": {
      "text/plain": [
       "0            0.0\n",
       "1            0.0\n",
       "2            0.0\n",
       "3            0.0\n",
       "4       0.070076\n",
       "          ...   \n",
       "9855    3.637953\n",
       "9856     0.05133\n",
       "9857    0.046398\n",
       "9858    0.043738\n",
       "9859    0.059596\n",
       "Length: 9685, dtype: object"
      ]
     },
     "execution_count": 15,
     "metadata": {},
     "output_type": "execute_result"
    }
   ],
   "execution_count": 15
  },
  {
   "metadata": {
    "ExecuteTime": {
     "end_time": "2024-10-19T19:18:01.436900Z",
     "start_time": "2024-10-19T19:18:01.422729Z"
    }
   },
   "cell_type": "code",
   "source": [
    "# caculated Z score\n",
    "df['Sheet1']['Zscore'] = 1.2*A + 1.4*B +3.3*C + 0.6*D + 1*E\n",
    "df['Sheet1'].dropna(inplace=True)\n",
    "round(df['Sheet1'],2)"
   ],
   "id": "38cf34c9b3c40cff",
   "outputs": [
    {
     "data": {
      "text/plain": [
       "        STT                                Company Common Name  \\\n",
       "2    LIG.HN                                      Licogi 13 JSC   \n",
       "3    MCC.HN                         High Grade Brick Tile Corp   \n",
       "4    TET.HN                 Northern Textiles And Garments JSC   \n",
       "5    KSD.HN                    DNA Investment Joint Stock Corp   \n",
       "6    NBW.HN                            Nha Be Water Supply JSC   \n",
       "..      ...                                                ...   \n",
       "700  CCI.HM  CuChi Commercial and Industrial Developing Inv...   \n",
       "701  PPP.HN                       Phong Phu Pharmaceutical JSC   \n",
       "702  IJC.HM             Becamex Infrastructure Development JSC   \n",
       "703  SBG.HM                Siba High-Tech Mechanical Group JSC   \n",
       "704  DSE.HM                                DNSE Securities JSC   \n",
       "\n",
       "                Exchange Name                GICS Industry Name  \\\n",
       "2        HANOI STOCK EXCHANGE        Construction & Engineering   \n",
       "3        HANOI STOCK EXCHANGE            Construction Materials   \n",
       "4        HANOI STOCK EXCHANGE  Textiles, Apparel & Luxury Goods   \n",
       "5        HANOI STOCK EXCHANGE            Construction Materials   \n",
       "6        HANOI STOCK EXCHANGE                   Water Utilities   \n",
       "..                        ...                               ...   \n",
       "700  HOCHIMINH STOCK EXCHANGE  Trading Companies & Distributors   \n",
       "701      HANOI STOCK EXCHANGE                   Pharmaceuticals   \n",
       "702  HOCHIMINH STOCK EXCHANGE        Construction & Engineering   \n",
       "703  HOCHIMINH STOCK EXCHANGE          Industrial Conglomerates   \n",
       "704  HOCHIMINH STOCK EXCHANGE                   Capital Markets   \n",
       "\n",
       "           GICS Sector Name Date Became Public    Zscore analysis  \n",
       "2               Industrials         2010-04-22  0.383429           \n",
       "3                 Materials         2010-04-26  0.141368           \n",
       "4    Consumer Discretionary         2010-04-28  0.212083           \n",
       "5                 Materials         2010-04-28  0.550698           \n",
       "6                 Utilities         2017-11-14  0.850031           \n",
       "..                      ...                ...       ...      ...  \n",
       "700             Industrials         2010-04-15  3.178387           \n",
       "701             Health Care         2011-07-18  3.313784           \n",
       "702             Industrials         2010-04-19  5.222902           \n",
       "703             Industrials         2023-12-01  4.343707           \n",
       "704              Financials         2024-07-01  3.888057           \n",
       "\n",
       "[580 rows x 8 columns]"
      ],
      "text/html": [
       "<div>\n",
       "<style scoped>\n",
       "    .dataframe tbody tr th:only-of-type {\n",
       "        vertical-align: middle;\n",
       "    }\n",
       "\n",
       "    .dataframe tbody tr th {\n",
       "        vertical-align: top;\n",
       "    }\n",
       "\n",
       "    .dataframe thead th {\n",
       "        text-align: right;\n",
       "    }\n",
       "</style>\n",
       "<table border=\"1\" class=\"dataframe\">\n",
       "  <thead>\n",
       "    <tr style=\"text-align: right;\">\n",
       "      <th></th>\n",
       "      <th>STT</th>\n",
       "      <th>Company Common Name</th>\n",
       "      <th>Exchange Name</th>\n",
       "      <th>GICS Industry Name</th>\n",
       "      <th>GICS Sector Name</th>\n",
       "      <th>Date Became Public</th>\n",
       "      <th>Zscore</th>\n",
       "      <th>analysis</th>\n",
       "    </tr>\n",
       "  </thead>\n",
       "  <tbody>\n",
       "    <tr>\n",
       "      <th>2</th>\n",
       "      <td>LIG.HN</td>\n",
       "      <td>Licogi 13 JSC</td>\n",
       "      <td>HANOI STOCK EXCHANGE</td>\n",
       "      <td>Construction &amp; Engineering</td>\n",
       "      <td>Industrials</td>\n",
       "      <td>2010-04-22</td>\n",
       "      <td>0.383429</td>\n",
       "      <td></td>\n",
       "    </tr>\n",
       "    <tr>\n",
       "      <th>3</th>\n",
       "      <td>MCC.HN</td>\n",
       "      <td>High Grade Brick Tile Corp</td>\n",
       "      <td>HANOI STOCK EXCHANGE</td>\n",
       "      <td>Construction Materials</td>\n",
       "      <td>Materials</td>\n",
       "      <td>2010-04-26</td>\n",
       "      <td>0.141368</td>\n",
       "      <td></td>\n",
       "    </tr>\n",
       "    <tr>\n",
       "      <th>4</th>\n",
       "      <td>TET.HN</td>\n",
       "      <td>Northern Textiles And Garments JSC</td>\n",
       "      <td>HANOI STOCK EXCHANGE</td>\n",
       "      <td>Textiles, Apparel &amp; Luxury Goods</td>\n",
       "      <td>Consumer Discretionary</td>\n",
       "      <td>2010-04-28</td>\n",
       "      <td>0.212083</td>\n",
       "      <td></td>\n",
       "    </tr>\n",
       "    <tr>\n",
       "      <th>5</th>\n",
       "      <td>KSD.HN</td>\n",
       "      <td>DNA Investment Joint Stock Corp</td>\n",
       "      <td>HANOI STOCK EXCHANGE</td>\n",
       "      <td>Construction Materials</td>\n",
       "      <td>Materials</td>\n",
       "      <td>2010-04-28</td>\n",
       "      <td>0.550698</td>\n",
       "      <td></td>\n",
       "    </tr>\n",
       "    <tr>\n",
       "      <th>6</th>\n",
       "      <td>NBW.HN</td>\n",
       "      <td>Nha Be Water Supply JSC</td>\n",
       "      <td>HANOI STOCK EXCHANGE</td>\n",
       "      <td>Water Utilities</td>\n",
       "      <td>Utilities</td>\n",
       "      <td>2017-11-14</td>\n",
       "      <td>0.850031</td>\n",
       "      <td></td>\n",
       "    </tr>\n",
       "    <tr>\n",
       "      <th>...</th>\n",
       "      <td>...</td>\n",
       "      <td>...</td>\n",
       "      <td>...</td>\n",
       "      <td>...</td>\n",
       "      <td>...</td>\n",
       "      <td>...</td>\n",
       "      <td>...</td>\n",
       "      <td>...</td>\n",
       "    </tr>\n",
       "    <tr>\n",
       "      <th>700</th>\n",
       "      <td>CCI.HM</td>\n",
       "      <td>CuChi Commercial and Industrial Developing Inv...</td>\n",
       "      <td>HOCHIMINH STOCK EXCHANGE</td>\n",
       "      <td>Trading Companies &amp; Distributors</td>\n",
       "      <td>Industrials</td>\n",
       "      <td>2010-04-15</td>\n",
       "      <td>3.178387</td>\n",
       "      <td></td>\n",
       "    </tr>\n",
       "    <tr>\n",
       "      <th>701</th>\n",
       "      <td>PPP.HN</td>\n",
       "      <td>Phong Phu Pharmaceutical JSC</td>\n",
       "      <td>HANOI STOCK EXCHANGE</td>\n",
       "      <td>Pharmaceuticals</td>\n",
       "      <td>Health Care</td>\n",
       "      <td>2011-07-18</td>\n",
       "      <td>3.313784</td>\n",
       "      <td></td>\n",
       "    </tr>\n",
       "    <tr>\n",
       "      <th>702</th>\n",
       "      <td>IJC.HM</td>\n",
       "      <td>Becamex Infrastructure Development JSC</td>\n",
       "      <td>HOCHIMINH STOCK EXCHANGE</td>\n",
       "      <td>Construction &amp; Engineering</td>\n",
       "      <td>Industrials</td>\n",
       "      <td>2010-04-19</td>\n",
       "      <td>5.222902</td>\n",
       "      <td></td>\n",
       "    </tr>\n",
       "    <tr>\n",
       "      <th>703</th>\n",
       "      <td>SBG.HM</td>\n",
       "      <td>Siba High-Tech Mechanical Group JSC</td>\n",
       "      <td>HOCHIMINH STOCK EXCHANGE</td>\n",
       "      <td>Industrial Conglomerates</td>\n",
       "      <td>Industrials</td>\n",
       "      <td>2023-12-01</td>\n",
       "      <td>4.343707</td>\n",
       "      <td></td>\n",
       "    </tr>\n",
       "    <tr>\n",
       "      <th>704</th>\n",
       "      <td>DSE.HM</td>\n",
       "      <td>DNSE Securities JSC</td>\n",
       "      <td>HOCHIMINH STOCK EXCHANGE</td>\n",
       "      <td>Capital Markets</td>\n",
       "      <td>Financials</td>\n",
       "      <td>2024-07-01</td>\n",
       "      <td>3.888057</td>\n",
       "      <td></td>\n",
       "    </tr>\n",
       "  </tbody>\n",
       "</table>\n",
       "<p>580 rows × 8 columns</p>\n",
       "</div>"
      ]
     },
     "execution_count": 16,
     "metadata": {},
     "output_type": "execute_result"
    }
   ],
   "execution_count": 16
  },
  {
   "metadata": {
    "ExecuteTime": {
     "end_time": "2024-10-19T19:18:01.539892Z",
     "start_time": "2024-10-19T19:18:01.535302Z"
    }
   },
   "cell_type": "code",
   "source": [
    "# phân tích Zscore và đưa ra nhận xét về tình hình tài chính của doanh nghiệp\n",
    "df['Sheet1']['analysis'] = np.where(df['Sheet1']['Zscore'] > 2.99, 'above',\n",
    "                                    np.where(df['Sheet1']['Zscore'] < 1.81,'below','balanced'))"
   ],
   "id": "529a834a0ccde77a",
   "outputs": [],
   "execution_count": 17
  },
  {
   "metadata": {
    "ExecuteTime": {
     "end_time": "2024-10-19T19:55:27.849171Z",
     "start_time": "2024-10-19T19:55:27.840045Z"
    }
   },
   "cell_type": "code",
   "source": "print(df['Sheet1'])",
   "id": "f955e55f007a4f37",
   "outputs": [
    {
     "name": "stdout",
     "output_type": "stream",
     "text": [
      "        STT                                Company Common Name  \\\n",
      "2    LIG.HN                                      Licogi 13 JSC   \n",
      "3    MCC.HN                         High Grade Brick Tile Corp   \n",
      "4    TET.HN                 Northern Textiles And Garments JSC   \n",
      "5    KSD.HN                    DNA Investment Joint Stock Corp   \n",
      "6    NBW.HN                            Nha Be Water Supply JSC   \n",
      "..      ...                                                ...   \n",
      "700  CCI.HM  CuChi Commercial and Industrial Developing Inv...   \n",
      "701  PPP.HN                       Phong Phu Pharmaceutical JSC   \n",
      "702  IJC.HM             Becamex Infrastructure Development JSC   \n",
      "703  SBG.HM                Siba High-Tech Mechanical Group JSC   \n",
      "704  DSE.HM                                DNSE Securities JSC   \n",
      "\n",
      "                Exchange Name                GICS Industry Name  \\\n",
      "2        HANOI STOCK EXCHANGE        Construction & Engineering   \n",
      "3        HANOI STOCK EXCHANGE            Construction Materials   \n",
      "4        HANOI STOCK EXCHANGE  Textiles, Apparel & Luxury Goods   \n",
      "5        HANOI STOCK EXCHANGE            Construction Materials   \n",
      "6        HANOI STOCK EXCHANGE                   Water Utilities   \n",
      "..                        ...                               ...   \n",
      "700  HOCHIMINH STOCK EXCHANGE  Trading Companies & Distributors   \n",
      "701      HANOI STOCK EXCHANGE                   Pharmaceuticals   \n",
      "702  HOCHIMINH STOCK EXCHANGE        Construction & Engineering   \n",
      "703  HOCHIMINH STOCK EXCHANGE          Industrial Conglomerates   \n",
      "704  HOCHIMINH STOCK EXCHANGE                   Capital Markets   \n",
      "\n",
      "           GICS Sector Name Date Became Public    Zscore analysis  \n",
      "2               Industrials         2010-04-22  0.383429    below  \n",
      "3                 Materials         2010-04-26  0.141368    below  \n",
      "4    Consumer Discretionary         2010-04-28  0.212083    below  \n",
      "5                 Materials         2010-04-28  0.550698    below  \n",
      "6                 Utilities         2017-11-14  0.850031    below  \n",
      "..                      ...                ...       ...      ...  \n",
      "700             Industrials         2010-04-15  3.178387    above  \n",
      "701             Health Care         2011-07-18  3.313784    above  \n",
      "702             Industrials         2010-04-19  5.222902    above  \n",
      "703             Industrials         2023-12-01  4.343707    above  \n",
      "704              Financials         2024-07-01  3.888057    above  \n",
      "\n",
      "[580 rows x 8 columns]\n"
     ]
    }
   ],
   "execution_count": 19
  },
  {
   "metadata": {
    "ExecuteTime": {
     "end_time": "2024-10-19T20:02:40.759188Z",
     "start_time": "2024-10-19T20:02:40.671995Z"
    }
   },
   "cell_type": "code",
   "source": "df['Sheet1'].to_excel(r'D:\\PyCharm 2024.2.3\\code python\\myproject.xlsx')",
   "id": "f4d4bf1df8257198",
   "outputs": [],
   "execution_count": 26
  }
 ],
 "metadata": {
  "kernelspec": {
   "display_name": "Python 3",
   "language": "python",
   "name": "python3"
  },
  "language_info": {
   "codemirror_mode": {
    "name": "ipython",
    "version": 2
   },
   "file_extension": ".py",
   "mimetype": "text/x-python",
   "name": "python",
   "nbconvert_exporter": "python",
   "pygments_lexer": "ipython2",
   "version": "2.7.6"
  }
 },
 "nbformat": 4,
 "nbformat_minor": 5
}
